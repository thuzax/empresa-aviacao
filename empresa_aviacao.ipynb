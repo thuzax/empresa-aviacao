{
 "cells": [
  {
   "cell_type": "markdown",
   "metadata": {},
   "source": [
    "# Modelo Matemático - Empresa de Aviação"
   ]
  },
  {
   "cell_type": "markdown",
   "metadata": {},
   "source": [
    "Importação dos pacotes JuMP e Gurobi, além da instanciação do modelo."
   ]
  },
  {
   "cell_type": "code",
   "execution_count": 1,
   "metadata": {},
   "outputs": [
    {
     "name": "stdout",
     "output_type": "stream",
     "text": [
      "Academic license - for non-commercial use only\n"
     ]
    },
    {
     "data": {
      "text/latex": [
       "$$ \\begin{alignat*}{1}\\text{feasibility}\\\\\n",
       "\\text{Subject to} \\quad\\end{alignat*}\n",
       " $$"
      ],
      "text/plain": [
       "A JuMP Model\n",
       "Feasibility problem with:\n",
       "Variables: 0\n",
       "Model mode: AUTOMATIC\n",
       "CachingOptimizer state: EMPTY_OPTIMIZER\n",
       "Solver name: Gurobi"
      ]
     },
     "execution_count": 1,
     "metadata": {},
     "output_type": "execute_result"
    }
   ],
   "source": [
    "#!/usr/bin/env  julia\n",
    "using JuMP\n",
    "using Gurobi\n",
    "\n",
    "m = Model(with_optimizer(Gurobi.Optimizer))"
   ]
  },
  {
   "cell_type": "markdown",
   "metadata": {},
   "source": [
    "### Dados"
   ]
  },
  {
   "cell_type": "markdown",
   "metadata": {},
   "source": [
    "Declaração das constantes que representam os dados do problema.\n",
    "\n",
    "- $tipos\\_avioes = \\{1, 2, 3\\}$;\n",
    "- $tipos\\_avioes_{1}$: Boeing 717;\n",
    "- $tipos\\_avioes_{2}$: Boeing 737-500;\n",
    "- $tipos\\_avioes_{3}$: MD-11;\n",
    "- $verba$: Verba disponível para a compra dos aviões;\n",
    "\n"
   ]
  },
  {
   "cell_type": "code",
   "execution_count": 2,
   "metadata": {},
   "outputs": [
    {
     "data": {
      "text/plain": [
       "3-element Array{Int64,1}:\n",
       " 30\n",
       " 20\n",
       " 10"
      ]
     },
     "execution_count": 2,
     "metadata": {},
     "output_type": "execute_result"
    }
   ],
   "source": [
    "# dados\n",
    "tipos_avioes = collect(1:3)\n",
    "tamanho_avioes = [1, 3/4, 5/3]\n",
    "\n",
    "verba = 220\n",
    "max_galpao = 40\n",
    "\n",
    "custos = [5.1, 3.6, 6.8]\n",
    "receitas = [330, 300, 420]\n",
    "pilotos = [30, 20, 10]"
   ]
  },
  {
   "cell_type": "markdown",
   "metadata": {},
   "source": [
    "### Variáveis"
   ]
  },
  {
   "cell_type": "markdown",
   "metadata": {},
   "source": [
    "Declaração das variáveis do problema: quantidade a ser comprada de cada avião, sendo que todos têm de ser valores maior igual a zero e inteiros.\n",
    "\n",
    "$quantidades = (quantidade_{1}, quantidade_{2}, quantidade_{3}) | \\forall i \\in tipos\\_avioes, quantidades_{i} \\ge 0$"
   ]
  },
  {
   "cell_type": "code",
   "execution_count": 3,
   "metadata": {},
   "outputs": [
    {
     "data": {
      "text/plain": [
       "1-dimensional DenseAxisArray{VariableRef,1,...} with index sets:\n",
       "    Dimension 1, [1, 2, 3]\n",
       "And data, a 3-element Array{VariableRef,1}:\n",
       " quantidades[1]\n",
       " quantidades[2]\n",
       " quantidades[3]"
      ]
     },
     "execution_count": 3,
     "metadata": {},
     "output_type": "execute_result"
    }
   ],
   "source": [
    "# variaveis\n",
    "@variable(m, quantidades[tipos_avioes] >= 0, Int)"
   ]
  },
  {
   "cell_type": "markdown",
   "metadata": {},
   "source": [
    "### Definição da função objetivo"
   ]
  },
  {
   "cell_type": "markdown",
   "metadata": {},
   "source": [
    "O objetivo da função é maximizar o lucro considerando a receita e o custo de compra de cada avião. Assim sendo, temos a seguinte função objetivo:\n",
    "\n",
    "\\begin{equation}\n",
    "    \\max f(q) = \\sum_{i \\in q} q[i] * (r[i] - c[i]), \\\\\n",
    "    q = (quantidades[i]), i \\in tipos\\_avioes \\\\\n",
    "    r = (receitas[i]), i \\in tipos\\_avioes \\\\\n",
    "    c = (custos[i]), i \\in tipos\\_avioes \\\\\n",
    "\\end{equation}"
   ]
  },
  {
   "cell_type": "code",
   "execution_count": 4,
   "metadata": {},
   "outputs": [
    {
     "data": {
      "text/latex": [
       "$$ 324.9 quantidades_{1} + 296.4 quantidades_{2} + 413.2 quantidades_{3} $$"
      ],
      "text/plain": [
       "324.9 quantidades[1] + 296.4 quantidades[2] + 413.2 quantidades[3]"
      ]
     },
     "execution_count": 4,
     "metadata": {},
     "output_type": "execute_result"
    }
   ],
   "source": [
    "# funcao objetivo\n",
    "@objective(m, Max, sum(quantidades[i] * (receitas[i] - custos[i]) for i in tipos_avioes))"
   ]
  },
  {
   "cell_type": "markdown",
   "metadata": {},
   "source": [
    "### Restrições"
   ]
  },
  {
   "cell_type": "markdown",
   "metadata": {},
   "source": [
    "Considerando que\n",
    "\\begin{equation}\n",
    "    z = (tipos\\_avioes[i]), i \\in tipos\\_avioes \\\\\n",
    "    t = (tamanho\\_avioes[i]), i \\in tipos\\_avioes \\\\\n",
    "    q = (quantidades[i]), i \\in tipos\\_avioes \\\\\n",
    "    c = (custos[i]), i \\in tipos\\_avioes \\\\\n",
    "    p = (pilotos[i]), i \\in tipos\\_avioes \\\\\n",
    "    g = max\\_galpao \\\\\n",
    "    v = verba \\\\\n",
    "\\end{equation}\n",
    "As restrições para o problema são as que seguem abaixo:\n",
    "\n",
    "-  As oficinas de manutenção podem suportar até 40 Boeings 717. Um Boeing 737-500 equivale, em esforço de manutenção, a 3/4, e um MD-11 a 5/3, quando referidos ao Boeing 717. Temos então que:\n",
    "  \\begin{equation}\n",
    "      \\sum_{i \\in z} t[i] * q[i] <= g;\n",
    "  \\end{equation}\n",
    "\n",
    "-  O custo total não deve superar a verba de compra:\n",
    "  \\begin{equation}\n",
    "      \\sum_{i \\in z} c[i] * q[i] <= v;\n",
    "  \\end{equation}\n",
    "\n",
    "-  Os pilotos de MD-11 podem pilotar todos os aviões da empresa, mas os demais pilotos só podem ser escalados às aeronaves a que foram habilitados. Cada aeronave necessita de dois pilotos para operar e não se deve comprar mais aviões do que a quantidade que pode ser usada ao mesmo tempo. Assim sendo, (i) a quantidade de aviões MD-11 deve ser menor que metade do número de pilotos; (ii) a quantidade de aviões Boeing 717 somada à quantidade de aviões MD-11 deve ser menor que a metade de pilotos do primeiro tipo somada a quantidade de pilotos do segundo; (iii) a quantidade de aviões Boeing 737-500 somada à quantidade de aviões MD-11 deve ser menor que a metade de pilotos do primeiro somada a quantidade de pilotos do segundo; (iv) o total de pilotos não deve ser excedido.\n",
    "  \\begin{equation}\n",
    "      2 * q[3] <= p[3]; \\qquad (i) \\\\\n",
    "      2 * q[1] + 2 * q[3] <= p[1] + p[3]; \\qquad (ii) \\\\\n",
    "      2 * q[2] + 2 * q[3] <= p[2] + p[3]; \\qquad (iii) \\\\\n",
    "      2 * \\sum_{i \\in z} q[i] <= sum_{i \\in z} p[i]; \\qquad (iv) \\\\\n",
    "  \\end{equation}"
   ]
  },
  {
   "cell_type": "code",
   "execution_count": 5,
   "metadata": {},
   "outputs": [],
   "source": [
    "# resticoes\n",
    "@constraints(m,\n",
    "    begin\n",
    "        sum(tamanho_avioes[i] * quantidades[i] for i in tipos_avioes) <= max_galpao\n",
    "        sum(custos[i] * quantidades[i] for i in tipos_avioes) <= verba\n",
    "        2 * quantidades[3] <= pilotos[3]\n",
    "        2 * quantidades[1] + 2 * quantidades[3] <= pilotos[1] + pilotos[3]\n",
    "        2 * quantidades[2] + 2 * quantidades[3] <= pilotos[2] + pilotos[3]\n",
    "        2 * sum(quantidades[i] for i in tipos_avioes) <= sum(pilotos[i] for i in tipos_avioes)\n",
    "    end\n",
    ")"
   ]
  },
  {
   "cell_type": "markdown",
   "metadata": {},
   "source": [
    "### Modelo"
   ]
  },
  {
   "cell_type": "markdown",
   "metadata": {},
   "source": [
    "Com todas as definições feitas pode-se obter o modelo completo prara este problema, que pode ser visto a partir da execução do código abaixo."
   ]
  },
  {
   "cell_type": "code",
   "execution_count": 6,
   "metadata": {},
   "outputs": [
    {
     "name": "stdout",
     "output_type": "stream",
     "text": [
      "Max 324.9 quantidades[1] + 296.4 quantidades[2] + 413.2 quantidades[3]\n",
      "Subject to\n",
      " quantidades[1] integer\n",
      " quantidades[2] integer\n",
      " quantidades[3] integer\n",
      " quantidades[1] ≥ 0.0\n",
      " quantidades[2] ≥ 0.0\n",
      " quantidades[3] ≥ 0.0\n",
      " quantidades[1] + 0.75 quantidades[2] + 1.6666666666666667 quantidades[3] ≤ 40.0\n",
      " 5.1 quantidades[1] + 3.6 quantidades[2] + 6.8 quantidades[3] ≤ 220.0\n",
      " 2 quantidades[3] ≤ 10.0\n",
      " 2 quantidades[1] + 2 quantidades[3] ≤ 40.0\n",
      " 2 quantidades[2] + 2 quantidades[3] ≤ 30.0\n",
      " 2 quantidades[1] + 2 quantidades[2] + 2 quantidades[3] ≤ 60.0\n",
      "\n"
     ]
    }
   ],
   "source": [
    "# imprime modelo\n",
    "println(m)"
   ]
  },
  {
   "cell_type": "markdown",
   "metadata": {},
   "source": [
    "### Execução"
   ]
  },
  {
   "cell_type": "markdown",
   "metadata": {},
   "source": [
    "Tendo-se o modelo apresentado, pode-se obter o resultado ótimo para as quantidades com a execução do código abaixo."
   ]
  },
  {
   "cell_type": "code",
   "execution_count": 7,
   "metadata": {},
   "outputs": [
    {
     "name": "stdout",
     "output_type": "stream",
     "text": [
      "Academic license - for non-commercial use only\n",
      "Optimize a model with 6 rows, 3 columns and 14 nonzeros\n",
      "Variable types: 0 continuous, 3 integer (0 binary)\n",
      "Coefficient statistics:\n",
      "  Matrix range     [8e-01, 7e+00]\n",
      "  Objective range  [3e+02, 4e+02]\n",
      "  Bounds range     [0e+00, 0e+00]\n",
      "  RHS range        [1e+01, 2e+02]\n",
      "Found heuristic solution: objective 9462.0000000\n",
      "Presolve removed 3 rows and 0 columns\n",
      "Presolve time: 0.00s\n",
      "Presolved: 3 rows, 3 columns, 7 nonzeros\n",
      "Variable types: 0 continuous, 3 integer (0 binary)\n",
      "\n",
      "Root relaxation: objective 9.903500e+03, 2 iterations, 0.00 seconds\n",
      "\n",
      "    Nodes    |    Current Node    |     Objective Bounds      |     Work\n",
      " Expl Unexpl |  Obj  Depth IntInf | Incumbent    BestBd   Gap | It/Node Time\n",
      "\n",
      "*    0     0               0    9903.5000000 9903.50000  0.00%     -    0s\n",
      "\n",
      "Explored 0 nodes (2 simplex iterations) in 0.00 seconds\n",
      "Thread count was 4 (of 4 available processors)\n",
      "\n",
      "Solution count 2: 9903.5 9462 \n",
      "\n",
      "Optimal solution found (tolerance 1.00e-04)\n",
      "Best objective 9.903500000000e+03, best bound 9.903500000000e+03, gap 0.0000%\n",
      "Tempo: 7.774593114852905 s\n",
      "Resultado função: 9903.5\n",
      "quantidades[1]: 15.0\n",
      "Custo: 76.5\n",
      "quantidades[2]: 10.0\n",
      "Custo: 36.0\n",
      "quantidades[3]: 5.0\n",
      "Custo: 34.0\n",
      "Custo total: 146.5\n",
      "\n"
     ]
    }
   ],
   "source": [
    "# obtém o resultado ótimo\n",
    "start_time = time()\n",
    "optimize!(m)\n",
    "end_time = time()\n",
    "\n",
    "# escreve os resultados\n",
    "println(\"Tempo: $(end_time - start_time) s\")\n",
    "println(\"Resultado função: \", JuMP.objective_value(m))\n",
    "\n",
    "custo_total = 0\n",
    "for i in tipos_avioes\n",
    "    if (JuMP.value(quantidades[i]) > 0)\n",
    "        println(\"quantidades[\", i, \"]: \", JuMP.value(quantidades[i]))\n",
    "        println(\"Custo: \", JuMP.value(quantidades[i]) * custos[i])\n",
    "        global custo_total += JuMP.value(quantidades[i]) * custos[i]\n",
    "    elseif (JuMP.value(quantidades[i]) == 0)\n",
    "        println(\"quantidades[\", i, \"]: \", 0.0)\n",
    "    end\n",
    "end\n",
    "println(\"Custo total: \", custo_total)\n",
    "\n",
    "println()"
   ]
  }
 ],
 "metadata": {
  "kernelspec": {
   "display_name": "Julia 1.1.0",
   "language": "julia",
   "name": "julia-1.1"
  },
  "language_info": {
   "file_extension": ".jl",
   "mimetype": "application/julia",
   "name": "julia",
   "version": "1.1.0"
  }
 },
 "nbformat": 4,
 "nbformat_minor": 2
}
