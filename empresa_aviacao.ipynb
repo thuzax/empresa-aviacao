{
 "cells": [
  {
   "cell_type": "markdown",
   "metadata": {},
   "source": [
    "# Modelo Matemático - Empresa de Aviação"
   ]
  },
  {
   "cell_type": "markdown",
   "metadata": {},
   "source": [
    "Importação dos pacotes JuMP e Gurobi, além da instanciação do modelo."
   ]
  },
  {
   "cell_type": "code",
   "execution_count": null,
   "metadata": {},
   "outputs": [],
   "source": [
    "#!/usr/bin/env  julia\n",
    "using JuMP\n",
    "using Gurobi\n",
    "\n",
    "m = Model(with_optimizer(Gurobi.Optimizer))"
   ]
  },
  {
   "cell_type": "markdown",
   "metadata": {},
   "source": [
    "### Dados"
   ]
  },
  {
   "cell_type": "markdown",
   "metadata": {},
   "source": [
    "Declaração das constantes que representam os dados do problema.\n",
    "\n",
    "- $tipos\\_avioes = \\{1, 2, 3\\}$;\n",
    "- $tipos\\_avioes_{1}$: Boeing 717;\n",
    "- $tipos\\_avioes_{2}$: Boeing 737-500;\n",
    "- $tipos\\_avioes_{3}$: MD-11;\n",
    "\n"
   ]
  },
  {
   "cell_type": "code",
   "execution_count": null,
   "metadata": {},
   "outputs": [],
   "source": [
    "# dados\n",
    "tipos_avioes = collect(1:3)\n",
    "tamanho_avioes = [1, 3/4, 5/3]\n",
    "\n",
    "verba = 220\n",
    "max_galpao = 40\n",
    "\n",
    "custos = [5.1, 3.6, 6.8]\n",
    "receitas = [330, 300, 420]\n",
    "pilotos = [30, 20, 10]"
   ]
  },
  {
   "cell_type": "markdown",
   "metadata": {},
   "source": [
    "### Variáveis"
   ]
  },
  {
   "cell_type": "markdown",
   "metadata": {},
   "source": [
    "Declaração das variáveis do problema: quantidade a ser comprada de cada avião, sendo que todos têm de ser valores maior igual a zero e inteiros.\n",
    "\n",
    "$quantidades = (quantidade_{1}, quantidade_{2}, quantidade_{3}) | \\forall i \\in tipos\\_avioes, quantidades_{i} \\ge 0$"
   ]
  },
  {
   "cell_type": "code",
   "execution_count": null,
   "metadata": {},
   "outputs": [],
   "source": [
    "# variaveis\n",
    "@variable(m, quantidades[tipos_avioes] >= 0, Int)"
   ]
  },
  {
   "cell_type": "markdown",
   "metadata": {},
   "source": [
    "### Definição da função objetivo"
   ]
  },
  {
   "cell_type": "markdown",
   "metadata": {},
   "source": [
    "O objetivo da função é maximizar o lucro considerando a receita e o custo de compra de cada avião. Assim sendo, temos a seguinte função objetivo:\n",
    "\n",
    "\\begin{equation}\n",
    "    \\max f(q) = \\sum_{i \\in q} q[i] * (r[i] - c[i]), \\\\\n",
    "    q = (quantidades[i]), i \\in tipos\\_avioes \\\\\n",
    "    r = (receitas[i]), i \\in tipos\\_avioes \\\\\n",
    "    c = (custos[i]), i \\in tipos\\_avioes \\\\\n",
    "\\end{equation}"
   ]
  },
  {
   "cell_type": "code",
   "execution_count": null,
   "metadata": {},
   "outputs": [],
   "source": [
    "# funcao objetivo\n",
    "@objective(m, Max, sum(quantidades[i] * (receitas[i] - custos[i]) for i in tipos_avioes))"
   ]
  },
  {
   "cell_type": "markdown",
   "metadata": {},
   "source": [
    "### Restrições"
   ]
  },
  {
   "cell_type": "markdown",
   "metadata": {},
   "source": [
    "Considerando que\n",
    "\\begin{equation}\n",
    "    z = (tipos\\_avioes[i]), i \\in tipos\\_avioes \\\\\n",
    "    t = (tamanho\\_avioes[i]), i \\in tipos\\_avioes \\\\\n",
    "    q = (quantidades[i]), i \\in tipos\\_avioes \\\\\n",
    "    c = (custos[i]), i \\in tipos\\_avioes \\\\\n",
    "    p = (pilotos[i]), i \\in tipos\\_avioes \\\\\n",
    "    g = max\\_galpao \\\\\n",
    "    v = verba \\\\\n",
    "\\end{equation}\n",
    "As restrições para o problema são as que seguem abaixo:\n",
    "\n",
    "-  As oficinas de manutenção podem suportar até 40 Boeings 717. Um Boeing 737-500 equivale, em esforço de manutenção, a 3/4, e um MD-11 a 5/3, quando referidos ao Boeing 717. Temos então que:\n",
    "  \\begin{equation}\n",
    "      \\sum_{i \\in z} t[i] * q[i] <= g;\n",
    "  \\end{equation}\n",
    "\n",
    "-  O custo total não deve superar a verba de compra:\n",
    "  \\begin{equation}\n",
    "      \\sum_{i \\in z} c[i] * q[i] <= v;\n",
    "  \\end{equation}\n",
    "\n",
    "-  Os pilotos de MD-11 podem pilotar todos os aviões da empresa, mas os demais pilotos só podem ser escalados às aeronaves a que foram habilitados. Cada aeronave necessita de dois pilotos para operar e não se deve comprar mais aviões do que a quantidade que pode ser usada ao mesmo tempo. Assim sendo, (i) a quantidade de aviões MD-11 deve ser menor que metade do número de pilotos; (ii) a quantidade de aviões Boeing 717 somada à quantidade de aviões MD-11 deve ser menor que a metade de pilotos do primeiro tipo somada a quantidade de pilotos do segundo; (iii) a quantidade de aviões Boeing 737-500 somada à quantidade de aviões MD-11 deve ser menor que a metade de pilotos do primeiro somada a quantidade de pilotos do segundo.\n",
    "  \\begin{equation}\n",
    "      \\qquad 2 * q[3] <= p[3]; \\qquad (i) \\\\\n",
    "      \\qquad 2 * q[1] + 2 * q[3] <= p[1] + p[3]; \\qquad (ii) \\\\\n",
    "      \\qquad 2 * q[2] + 2 * q[3] <= p[2] + p[3]; \\qquad (iii) \\\\\n",
    "  \\end{equation}"
   ]
  },
  {
   "cell_type": "code",
   "execution_count": null,
   "metadata": {},
   "outputs": [],
   "source": [
    "# resticoes\n",
    "@constraints(m,\n",
    "    begin\n",
    "        sum(tamanho_avioes[i] * quantidades[i] for i in tipos_avioes) <= max_galpao\n",
    "        sum(custos[i] * quantidades[i] for i in tipos_avioes) <= verba\n",
    "        2 * quantidades[3] <= pilotos[3]\n",
    "        2 * quantidades[1] + 2 * quantidades[3] <= pilotos[1] + pilotos[3]\n",
    "        2 * quantidades[2] + 2 * quantidades[3] <= pilotos[2] + pilotos[3]\n",
    "    end\n",
    ")"
   ]
  },
  {
   "cell_type": "markdown",
   "metadata": {},
   "source": [
    "### Modelo"
   ]
  },
  {
   "cell_type": "markdown",
   "metadata": {},
   "source": [
    "Com todas as definições feitas pode-se obter o modelo completo prara este problema, que pode ser visto a partir da execução do código abaixo."
   ]
  },
  {
   "cell_type": "code",
   "execution_count": null,
   "metadata": {},
   "outputs": [],
   "source": [
    "# imprime modelo\n",
    "println(m)"
   ]
  },
  {
   "cell_type": "markdown",
   "metadata": {},
   "source": [
    "### Execução"
   ]
  },
  {
   "cell_type": "markdown",
   "metadata": {},
   "source": [
    "Tendo-se o modelo apresentado, pode-se obter o resultado ótimo para as quantidades com a execução do código abaixo."
   ]
  },
  {
   "cell_type": "code",
   "execution_count": null,
   "metadata": {},
   "outputs": [],
   "source": [
    "# obtém o resultado ótimo\n",
    "start_time = time()\n",
    "optimize!(m)\n",
    "end_time = time()\n",
    "\n",
    "# escreve os resultados\n",
    "println(\"Tempo: $(end_time - start_time) s\")\n",
    "println(\"Resultado função: \", JuMP.objective_value(m))\n",
    "\n",
    "custo_total = 0\n",
    "for i in tipos_avioes\n",
    "    if (JuMP.value(quantidades[i]) > 0)\n",
    "        println(\"quantidades[\", i, \"]: \", JuMP.value(quantidades[i]))\n",
    "        println(\"Custo: \", JuMP.value(quantidades[i]) * custos[i])\n",
    "        global custo_total += JuMP.value(quantidades[i]) * custos[i]\n",
    "    elseif (JuMP.value(quantidades[i]) == 0)\n",
    "        println(\"quantidades[\", i, \"]: \", 0.0)\n",
    "    end\n",
    "end\n",
    "println(\"Custo total: \", custo_total)\n",
    "\n",
    "println()"
   ]
  }
 ],
 "metadata": {
  "kernelspec": {
   "display_name": "Julia 1.1.0",
   "language": "julia",
   "name": "julia-1.1"
  },
  "language_info": {
   "file_extension": ".jl",
   "mimetype": "application/julia",
   "name": "julia",
   "version": "1.1.0"
  }
 },
 "nbformat": 4,
 "nbformat_minor": 2
}
