{
 "cells": [
  {
   "cell_type": "markdown",
   "metadata": {},
   "source": [
    "# Modelo Matemático - Empresa de Aviação"
   ]
  },
  {
   "cell_type": "markdown",
   "metadata": {},
   "source": [
    "Importação dos pacotes JuMP e Gurobi, além da instanciação do modelo."
   ]
  },
  {
   "cell_type": "code",
   "execution_count": null,
   "metadata": {},
   "outputs": [],
   "source": [
    "using JuMP\n",
    "using Gurobi\n",
    "\n",
    "m = Model(with_optimizer(Gurobi.Optimizer))"
   ]
  },
  {
   "cell_type": "markdown",
   "metadata": {},
   "source": [
    "## Dados\n",
    "Declaração das constantes que representam os dados do problema."
   ]
  },
  {
   "cell_type": "code",
   "execution_count": null,
   "metadata": {},
   "outputs": [],
   "source": [
    "# dados\n",
    "tipos_avioes = collect(1:3)\n",
    "tamanho_avioes = [1, 3/4, 5/3]\n",
    "\n",
    "verba = 220\n",
    "max_galpao = 40\n",
    "\n",
    "custos = [5.1, 3.6, 6.8]\n",
    "receitas = [330, 300, 420]\n",
    "pilotos = [30, 20, 10]"
   ]
  },
  {
   "cell_type": "markdown",
   "metadata": {},
   "source": [
    "## Variáveis\n",
    "Declaração das variáveis do problema: quantidade a ser comprada de cada avião, sendo que todos têm de ser valores maior igual a zero e inteiros.\n",
    "\n",
    "$quantidades = (quantidade_{1}, quantidade_{2}, quantidade_{3}) | \\forall i \\in tipos_avioes, $"
   ]
  },
  {
   "cell_type": "code",
   "execution_count": null,
   "metadata": {},
   "outputs": [],
   "source": [
    "# variaveis\n",
    "@variable(m, quantidades[tipos_avioes] >= 0, Int)"
   ]
  },
  {
   "cell_type": "code",
   "execution_count": null,
   "metadata": {},
   "outputs": [],
   "source": []
  },
  {
   "cell_type": "code",
   "execution_count": null,
   "metadata": {},
   "outputs": [],
   "source": [
    "# funcao objetivo\n",
    "@objective(m, Max, sum(quantidades[i] * (receitas[i] - custos[i]) for i in tipos_avioes))"
   ]
  }
 ],
 "metadata": {
  "kernelspec": {
   "display_name": "Python 3",
   "language": "python",
   "name": "python3"
  },
  "language_info": {
   "codemirror_mode": {
    "name": "ipython",
    "version": 3
   },
   "file_extension": ".py",
   "mimetype": "text/x-python",
   "name": "python",
   "nbconvert_exporter": "python",
   "pygments_lexer": "ipython3",
   "version": "3.6.7"
  }
 },
 "nbformat": 4,
 "nbformat_minor": 2
}
